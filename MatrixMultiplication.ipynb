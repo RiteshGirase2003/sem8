{
  "nbformat": 4,
  "nbformat_minor": 0,
  "metadata": {
    "colab": {
      "provenance": []
    },
    "kernelspec": {
      "name": "python3",
      "display_name": "Python 3"
    },
    "language_info": {
      "name": "python"
    }
  },
  "cells": [
    {
      "cell_type": "code",
      "execution_count": null,
      "metadata": {
        "id": "GeMaiBjdGlF3"
      },
      "outputs": [],
      "source": [
        "#Input Format (Matrix A and Matrix B):\n",
        "A,i,j,value\n",
        "B,j,k,value"
      ]
    },
    {
      "cell_type": "code",
      "source": [
        "#!/usr/bin/env python3\n",
        "import sys\n",
        "\n",
        "for line in sys.stdin:\n",
        "    tokens = line.strip().split(',')\n",
        "    if tokens[0] == 'A':\n",
        "        for k in range(0, 2):  # assuming output matrix has 2 columns\n",
        "            print(f\"{tokens[1]},{k}\\tA,{tokens[2]},{tokens[3]}\")\n",
        "    elif tokens[0] == 'B':\n",
        "        for i in range(0, 2):  # assuming output matrix has 2 rows\n",
        "            print(f\"{i},{tokens[2]}\\tB,{tokens[1]},{tokens[3]}\")\n"
      ],
      "metadata": {
        "id": "zV9oBrMoGs65"
      },
      "execution_count": null,
      "outputs": []
    },
    {
      "cell_type": "code",
      "source": [
        "#!/usr/bin/env python3\n",
        "import sys\n",
        "from collections import defaultdict\n",
        "\n",
        "current_key = None\n",
        "A_vals = defaultdict(float)\n",
        "B_vals = defaultdict(float)\n",
        "\n",
        "for line in sys.stdin:\n",
        "    key, value = line.strip().split('\\t')\n",
        "    matrix, index, val = value.split(',')\n",
        "\n",
        "    if current_key and current_key != key:\n",
        "        result = sum(A_vals[k] * B_vals[k] for k in A_vals if k in B_vals)\n",
        "        print(f\"{current_key}\\t{result}\")\n",
        "        A_vals.clear()\n",
        "        B_vals.clear()\n",
        "\n",
        "    current_key = key\n",
        "    if matrix == 'A':\n",
        "        A_vals[index] = float(val)\n",
        "    else:\n",
        "        B_vals[index] = float(val)\n",
        "\n",
        "if current_key:\n",
        "    result = sum(A_vals[k] * B_vals[k] for k in A_vals if k in B_vals)\n",
        "    print(f\"{current_key}\\t{result}\")\n"
      ],
      "metadata": {
        "id": "AAaLFPW_Gu8T"
      },
      "execution_count": null,
      "outputs": []
    },
    {
      "cell_type": "code",
      "source": [
        "Input Files in HDFS:\n",
        "Matrix A (a.csv)\n",
        "A,0,0,1\n",
        "A,0,1,2\n",
        "A,1,0,3\n",
        "A,1,1,4\n",
        "Matrix B (b.csv)\n",
        "B,0,0,5\n",
        "B,1,0,6\n",
        "B,0,1,7\n",
        "B,1,1,8\n"
      ],
      "metadata": {
        "id": "-qHoCeaoHY_d"
      },
      "execution_count": null,
      "outputs": []
    },
    {
      "cell_type": "code",
      "source": [
        "#Execution Commands:\n",
        "\n",
        "# Upload files to HDFS\n",
        "hadoop fs -put a.csv /input/a.csv\n",
        "hadoop fs -put b.csv /input/b.csv\n",
        "# Run MapReduce Job\n",
        "hadoop jar /usr/lib/hadoop-mapreduce/hadoop-streaming.jar \\\n",
        "-files mapper.py,reducer.py \\\n",
        "-mapper mapper.py \\\n",
        "-reducer reducer.py \\\n",
        "-input /input \\\n",
        "-output /output_matrix\n",
        "# View result\n",
        "hadoop fs -cat /output_matrix/part-00000"
      ],
      "metadata": {
        "id": "P_3F6ps2G53M"
      },
      "execution_count": null,
      "outputs": []
    }
  ]
}