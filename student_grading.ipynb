{
  "nbformat": 4,
  "nbformat_minor": 0,
  "metadata": {
    "colab": {
      "provenance": []
    },
    "kernelspec": {
      "name": "python3",
      "display_name": "Python 3"
    },
    "language_info": {
      "name": "python"
    }
  },
  "cells": [
    {
      "cell_type": "code",
      "execution_count": null,
      "metadata": {
        "id": "uHNuFxYMHEDW"
      },
      "outputs": [],
      "source": [
        "#Sample Input File (students.txt):\n",
        "Alice,85\n",
        "Bob,67\n",
        "Charlie,92\n",
        "David,74\n",
        "Eva,58\n"
      ]
    },
    {
      "cell_type": "code",
      "source": [
        "#!/usr/bin/env python3\n",
        "import sys\n",
        "\n",
        "for line in sys.stdin:\n",
        "    line = line.strip()\n",
        "    if line:\n",
        "        name, marks = line.split(',')\n",
        "        print(f\"{name}\\t{marks}\")\n"
      ],
      "metadata": {
        "id": "m4Gl9H1qHrJL"
      },
      "execution_count": null,
      "outputs": []
    },
    {
      "cell_type": "code",
      "source": [
        "#!/usr/bin/env python3\n",
        "import sys\n",
        "\n",
        "for line in sys.stdin:\n",
        "    name, marks = line.strip().split('\\t')\n",
        "    marks = int(marks)\n",
        "    if marks >= 90:\n",
        "        grade = 'A'\n",
        "    elif marks >= 80:\n",
        "        grade = 'B'\n",
        "    elif marks >= 70:\n",
        "        grade = 'C'\n",
        "    elif marks >= 60:\n",
        "        grade = 'D'\n",
        "    else:\n",
        "        grade = 'F'\n",
        "    print(f\"{name}\\t{grade}\")\n"
      ],
      "metadata": {
        "id": "n8NYoIalHsKx"
      },
      "execution_count": null,
      "outputs": []
    },
    {
      "cell_type": "code",
      "source": [
        "#Execution Commands:\n",
        "\n",
        "# Upload input file to HDFS\n",
        "hadoop fs -put students.txt /input/students.txt\n",
        "# Run the MapReduce job\n",
        "hadoop jar /usr/lib/hadoop-mapreduce/hadoop-streaming.jar \\\n",
        "-files mapper.py,reducer.py \\\n",
        "-mapper mapper.py \\\n",
        "-reducer reducer.py \\\n",
        "-input /input/students.txt \\\n",
        "-output /output_grades\n",
        "# View output\n",
        "hadoop fs -cat /output_grades/part-00000\n",
        "\n"
      ],
      "metadata": {
        "id": "1tq_sILNHy4s"
      },
      "execution_count": null,
      "outputs": []
    }
  ]
}